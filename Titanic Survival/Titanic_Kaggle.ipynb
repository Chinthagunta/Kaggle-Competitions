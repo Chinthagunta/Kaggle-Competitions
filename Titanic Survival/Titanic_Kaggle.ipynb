{
 "cells": [
  {
   "cell_type": "code",
   "execution_count": 1,
   "metadata": {
    "collapsed": true
   },
   "outputs": [],
   "source": [
    "import numpy as np\n",
    "import pandas as pd\n",
    "import matplotlib.pyplot as plt\n",
    "%matplotlib inline"
   ]
  },
  {
   "cell_type": "code",
   "execution_count": 2,
   "metadata": {
    "collapsed": true
   },
   "outputs": [],
   "source": [
    "data = pd.read_csv('/Users/Sri/Desktop/Kaggle/Titanic/train.csv', index_col=None)"
   ]
  },
  {
   "cell_type": "code",
   "execution_count": 3,
   "metadata": {
    "collapsed": false,
    "scrolled": true
   },
   "outputs": [
    {
     "name": "stdout",
     "output_type": "stream",
     "text": [
      "<class 'pandas.core.frame.DataFrame'>\n",
      "Int64Index: 891 entries, 0 to 890\n",
      "Data columns (total 12 columns):\n",
      "PassengerId    891 non-null int64\n",
      "Survived       891 non-null int64\n",
      "Pclass         891 non-null int64\n",
      "Name           891 non-null object\n",
      "Sex            891 non-null object\n",
      "Age            714 non-null float64\n",
      "SibSp          891 non-null int64\n",
      "Parch          891 non-null int64\n",
      "Ticket         891 non-null object\n",
      "Fare           891 non-null float64\n",
      "Cabin          204 non-null object\n",
      "Embarked       889 non-null object\n",
      "dtypes: float64(2), int64(5), object(5)\n",
      "memory usage: 90.5+ KB\n"
     ]
    }
   ],
   "source": [
    "data.info()"
   ]
  },
  {
   "cell_type": "code",
   "execution_count": 13,
   "metadata": {
    "collapsed": false
   },
   "outputs": [
    {
     "data": {
      "text/plain": [
       "array(['S', 'C', 'Q', nan], dtype=object)"
      ]
     },
     "execution_count": 13,
     "metadata": {},
     "output_type": "execute_result"
    }
   ],
   "source": [
    "data.Embarked.unique()"
   ]
  },
  {
   "cell_type": "code",
   "execution_count": 3,
   "metadata": {
    "collapsed": true
   },
   "outputs": [],
   "source": [
    "# replace missing values and convert categorical text to numerical\n",
    "data['Age'] = data['Age'].fillna(data['Age'].median())\n",
    "data.loc[data['Sex']=='male', 'Sex'] = 0\n",
    "data.loc[data['Sex']=='female', 'Sex'] = 1\n",
    "# convert embarked column, first replace missing values\n",
    "data['Embarked'] = data['Embarked'].fillna('S')\n",
    "data.loc[data['Embarked']=='S','Embarked']=0\n",
    "data.loc[data['Embarked']=='C','Embarked']=1\n",
    "data.loc[data['Embarked']=='Q','Embarked']=2"
   ]
  },
  {
   "cell_type": "code",
   "execution_count": 4,
   "metadata": {
    "collapsed": true
   },
   "outputs": [],
   "source": [
    "# Draw some graphs for interesting patteren\n",
    "# lest see default features, how much they ll give score\n",
    "from sklearn.linear_model import LinearRegression\n",
    "from sklearn.cross_validation import KFold"
   ]
  },
  {
   "cell_type": "code",
   "execution_count": 6,
   "metadata": {
    "collapsed": true
   },
   "outputs": [],
   "source": [
    "predictors = [\"Pclass\", \"Sex\", \"Age\", \"SibSp\", \"Parch\", \"Fare\", \"Embarked\"]"
   ]
  },
  {
   "cell_type": "code",
   "execution_count": 7,
   "metadata": {
    "collapsed": false
   },
   "outputs": [],
   "source": [
    "lr = LinearRegression()\n",
    "kf = KFold(data.shape[0], n_folds=3, random_state=1)\n",
    "predictions = []\n",
    "for train, test in kf:\n",
    "    train_predictions = data[predictors].iloc[train,:]\n",
    "    train_target = data['Survived'].iloc[train]\n",
    "    lr.fit(train_predictions, train_target)\n",
    "    test_predictions = lr.predict(data[predictors].iloc[test,:])\n",
    "    predictions.append(test_predictions)"
   ]
  },
  {
   "cell_type": "code",
   "execution_count": 8,
   "metadata": {
    "collapsed": false
   },
   "outputs": [],
   "source": [
    "predictions = np.concatenate(predictions,axis=0)"
   ]
  },
  {
   "cell_type": "code",
   "execution_count": 9,
   "metadata": {
    "collapsed": false
   },
   "outputs": [],
   "source": [
    "predictions[predictions>0.5] =1\n",
    "predictions[predictions<=0.5] =0"
   ]
  },
  {
   "cell_type": "code",
   "execution_count": 10,
   "metadata": {
    "collapsed": false
   },
   "outputs": [],
   "source": [
    "accuracy = (data['Survived']==predictions).mean()"
   ]
  },
  {
   "cell_type": "code",
   "execution_count": 11,
   "metadata": {
    "collapsed": false
   },
   "outputs": [
    {
     "data": {
      "text/plain": [
       "0.78338945005611671"
      ]
     },
     "execution_count": 11,
     "metadata": {},
     "output_type": "execute_result"
    }
   ],
   "source": [
    "accuracy"
   ]
  },
  {
   "cell_type": "code",
   "execution_count": 12,
   "metadata": {
    "collapsed": true
   },
   "outputs": [],
   "source": [
    "# Logistic Regression\n",
    "from sklearn.linear_model import LogisticRegression"
   ]
  },
  {
   "cell_type": "code",
   "execution_count": 13,
   "metadata": {
    "collapsed": true
   },
   "outputs": [],
   "source": [
    "lor = LogisticRegression(random_state=1)\n",
    "kf = KFold(data.shape[0], n_folds=3, random_state=1)\n",
    "predictions_lor = []\n",
    "for train, test in kf:\n",
    "    train_predictions = data[predictors].iloc[train,:]\n",
    "    train_target = data['Survived'].iloc[train]\n",
    "    lor.fit(train_predictions, train_target)\n",
    "    test_predictions = lr.predict(data[predictors].iloc[test,:])\n",
    "    predictions_lor.append(test_predictions)"
   ]
  },
  {
   "cell_type": "code",
   "execution_count": 14,
   "metadata": {
    "collapsed": false
   },
   "outputs": [],
   "source": [
    "predictions_lor = np.concatenate(predictions_lor, axis=0)\n",
    "predictions_lor[predictions_lor>0.5] =1\n",
    "predictions_lor[predictions_lor<=0.5] =0"
   ]
  },
  {
   "cell_type": "code",
   "execution_count": 15,
   "metadata": {
    "collapsed": false
   },
   "outputs": [
    {
     "data": {
      "text/plain": [
       "0.79797979797979801"
      ]
     },
     "execution_count": 15,
     "metadata": {},
     "output_type": "execute_result"
    }
   ],
   "source": [
    "accuracy = (data['Survived']==predictions_lor).mean()\n",
    "accuracy"
   ]
  },
  {
   "cell_type": "code",
   "execution_count": 22,
   "metadata": {
    "collapsed": false
   },
   "outputs": [
    {
     "data": {
      "text/plain": [
       "0.78787878787878773"
      ]
     },
     "execution_count": 22,
     "metadata": {},
     "output_type": "execute_result"
    }
   ],
   "source": [
    "alg =LogisticRegression(random_state=1)\n",
    "scores = cross_validation.cross_val_score(alg, data[predictors], data['Survived'], cv=3)\n",
    "scores.mean()"
   ]
  },
  {
   "cell_type": "code",
   "execution_count": 21,
   "metadata": {
    "collapsed": true
   },
   "outputs": [],
   "source": [
    "# Random Forest\n",
    "from sklearn import cross_validation\n",
    "from sklearn.cross_validation import cross_val_score\n",
    "from sklearn.ensemble import RandomForestClassifier"
   ]
  },
  {
   "cell_type": "code",
   "execution_count": 23,
   "metadata": {
    "collapsed": false
   },
   "outputs": [
    {
     "data": {
      "text/plain": [
       "0.80022446689113347"
      ]
     },
     "execution_count": 23,
     "metadata": {},
     "output_type": "execute_result"
    }
   ],
   "source": [
    "rf = RandomForestClassifier(random_state=1, n_estimators=10, min_samples_leaf=1, min_samples_split=2)\n",
    "scores_rf = cross_validation.cross_val_score(rf, data[predictors], data['Survived'],cv=3)\n",
    "scores_rf.mean()"
   ]
  },
  {
   "cell_type": "code",
   "execution_count": 24,
   "metadata": {
    "collapsed": false
   },
   "outputs": [
    {
     "data": {
      "text/plain": [
       "0.82828282828282829"
      ]
     },
     "execution_count": 24,
     "metadata": {},
     "output_type": "execute_result"
    }
   ],
   "source": [
    "# chnage parameters\n",
    "rf = RandomForestClassifier(random_state=1, n_estimators=70, min_samples_leaf=2, min_samples_split=4)\n",
    "scores_rf = cross_validation.cross_val_score(rf, data[predictors], data['Survived'],cv=3)\n",
    "scores_rf.mean()"
   ]
  },
  {
   "cell_type": "markdown",
   "metadata": {},
   "source": [
    "### Feature Engineering"
   ]
  },
  {
   "cell_type": "markdown",
   "metadata": {},
   "source": [
    "Length of the name could mean how rich they are and so their place in titanic.\n",
    "Total no of family: survival chances may very based on family size"
   ]
  },
  {
   "cell_type": "code",
   "execution_count": 5,
   "metadata": {
    "collapsed": false
   },
   "outputs": [],
   "source": [
    "data['FamilySize'] = data['SibSp'] + data['Parch']\n",
    "data['NameLength'] = data['Name'].apply(lambda x:len(x))"
   ]
  },
  {
   "cell_type": "markdown",
   "metadata": {},
   "source": [
    "Observe Title carefully, there is a pattern, Mr. Mrs. Miss. Master. etc extract the new feature from title"
   ]
  },
  {
   "cell_type": "code",
   "execution_count": 6,
   "metadata": {
    "collapsed": true
   },
   "outputs": [],
   "source": [
    "import re\n",
    "def get_title(name):\n",
    "    search = re.search('([A-Za-z]+)\\.',name)\n",
    "    if search:\n",
    "        return search.group(1)\n",
    "    return ''\n",
    "titles = data['Name'].apply(get_title)"
   ]
  },
  {
   "cell_type": "code",
   "execution_count": 27,
   "metadata": {
    "collapsed": false
   },
   "outputs": [
    {
     "data": {
      "text/plain": [
       "Mr          517\n",
       "Miss        182\n",
       "Mrs         125\n",
       "Master       40\n",
       "Dr            7\n",
       "Rev           6\n",
       "Major         2\n",
       "Mlle          2\n",
       "Col           2\n",
       "Capt          1\n",
       "Countess      1\n",
       "Don           1\n",
       "Lady          1\n",
       "Sir           1\n",
       "Mme           1\n",
       "Ms            1\n",
       "Jonkheer      1\n",
       "dtype: int64"
      ]
     },
     "execution_count": 27,
     "metadata": {},
     "output_type": "execute_result"
    }
   ],
   "source": [
    "titles.value_counts()"
   ]
  },
  {
   "cell_type": "code",
   "execution_count": 7,
   "metadata": {
    "collapsed": false
   },
   "outputs": [],
   "source": [
    "# map each title to numbers\n",
    "mappings = {\"Mr\": 1, \"Miss\": 2, \"Mrs\": 3, \"Master\": 4, \"Dr\": 5, \"Rev\": 6, \"Major\": 7, \"Col\": 7, \"Mlle\": 8, \"Mme\": 8, \"Don\": 9, \"Lady\": 10, \"Countess\": 10, \"Jonkheer\": 10, \"Sir\": 9, \"Capt\": 7, \"Ms\": 2}\n",
    "for k, v in mappings.items():\n",
    "    titles[titles==k]=v\n",
    "    "
   ]
  },
  {
   "cell_type": "code",
   "execution_count": 8,
   "metadata": {
    "collapsed": false
   },
   "outputs": [],
   "source": [
    "data['Title'] = titles"
   ]
  },
  {
   "cell_type": "markdown",
   "metadata": {},
   "source": [
    "extract feature from Family Group, survival was highly dependant on family and th people around you"
   ]
  },
  {
   "cell_type": "code",
   "execution_count": 9,
   "metadata": {
    "collapsed": true
   },
   "outputs": [],
   "source": [
    "import operator\n",
    "family_mapping={}\n",
    "def get_family_id(row):\n",
    "    lastname= row['Name'].split(',')[0]\n",
    "    family_id = '{0}{1}'.format(lastname, row['FamilySize'])\n",
    "    if family_id not in family_mapping:\n",
    "        if len(family_mapping)==0:\n",
    "            currentid=1\n",
    "        else:\n",
    "            currentid=(max(family_mapping.items(),key=operator.itemgetter(1))[1]+1)\n",
    "        family_mapping[family_id] = currentid\n",
    "    return family_mapping[family_id]\n"
   ]
  },
  {
   "cell_type": "code",
   "execution_count": 10,
   "metadata": {
    "collapsed": false
   },
   "outputs": [],
   "source": [
    "family_ids = data.apply(get_family_id, axis=1)"
   ]
  },
  {
   "cell_type": "code",
   "execution_count": 11,
   "metadata": {
    "collapsed": false
   },
   "outputs": [],
   "source": [
    "# as there are lot of families makes all families <3 to -1\n",
    "family_ids[data['FamilySize']<3] = -1\n",
    "data['FamilyID'] = family_ids"
   ]
  },
  {
   "cell_type": "markdown",
   "metadata": {},
   "source": [
    "Now that we extracted some features, find the best amongest them\""
   ]
  },
  {
   "cell_type": "code",
   "execution_count": 12,
   "metadata": {
    "collapsed": true
   },
   "outputs": [],
   "source": [
    "from sklearn.feature_selection import SelectKBest, f_classif\n",
    "from sklearn.ensemble import GradientBoostingClassifier"
   ]
  },
  {
   "cell_type": "code",
   "execution_count": 13,
   "metadata": {
    "collapsed": false
   },
   "outputs": [
    {
     "data": {
      "image/png": "[encoded data removed]",
      "text/plain": [
       "<matplotlib.figure.Figure at 0x10b929fd0>"
      ]
     },
     "metadata": {},
     "output_type": "display_data"
    }
   ],
   "source": [
    "predictors = [\"Pclass\", \"Sex\", \"Age\", \"SibSp\", \"Parch\", \"Fare\", \"Embarked\", \"FamilySize\", \"Title\", \"FamilyID\"]\n",
    "\n",
    "sel = SelectKBest(f_classif, k=5)\n",
    "sel.fit(data[predictors], data['Survived'])\n",
    "scores = -np.log10(sel.pvalues_)\n",
    "\n",
    "plt.bar(range(len(predictors)), scores)\n",
    "plt.xticks(range(len(predictors)), predictors, rotation='vertical')\n",
    "plt.show()"
   ]
  },
  {
   "cell_type": "code",
   "execution_count": 14,
   "metadata": {
    "collapsed": false
   },
   "outputs": [
    {
     "ename": "NameError",
     "evalue": "name 'RandomForestClassifier' is not defined",
     "output_type": "error",
     "traceback": [
      "\u001b[0;31m---------------------------------------------------------------------------\u001b[0m",
      "\u001b[0;31mNameError\u001b[0m                                 Traceback (most recent call last)",
      "\u001b[0;32m<ipython-input-14-2d540ecab8bd>\u001b[0m in \u001b[0;36m<module>\u001b[0;34m()\u001b[0m\n\u001b[0;32m----> 1\u001b[0;31m \u001b[0mrf\u001b[0m \u001b[0;34m=\u001b[0m \u001b[0mRandomForestClassifier\u001b[0m\u001b[0;34m(\u001b[0m\u001b[0mrandom_state\u001b[0m\u001b[0;34m=\u001b[0m\u001b[0;36m1\u001b[0m\u001b[0;34m,\u001b[0m \u001b[0mn_estimators\u001b[0m\u001b[0;34m=\u001b[0m\u001b[0;36m100\u001b[0m\u001b[0;34m,\u001b[0m \u001b[0mmin_samples_leaf\u001b[0m\u001b[0;34m=\u001b[0m\u001b[0;36m4\u001b[0m\u001b[0;34m,\u001b[0m\u001b[0mmin_samples_split\u001b[0m\u001b[0;34m=\u001b[0m\u001b[0;36m5\u001b[0m\u001b[0;34m)\u001b[0m\u001b[0;34m\u001b[0m\u001b[0m\n\u001b[0m\u001b[1;32m      2\u001b[0m \u001b[0mscores_rf\u001b[0m\u001b[0;34m=\u001b[0m \u001b[0mcross_validation\u001b[0m\u001b[0;34m.\u001b[0m\u001b[0mcross_val_score\u001b[0m\u001b[0;34m(\u001b[0m\u001b[0mrf\u001b[0m\u001b[0;34m,\u001b[0m \u001b[0mdata\u001b[0m\u001b[0;34m[\u001b[0m\u001b[0mpredictors\u001b[0m\u001b[0;34m]\u001b[0m\u001b[0;34m,\u001b[0m \u001b[0mdata\u001b[0m\u001b[0;34m[\u001b[0m\u001b[0;34m'Survived'\u001b[0m\u001b[0;34m]\u001b[0m\u001b[0;34m)\u001b[0m\u001b[0;34m\u001b[0m\u001b[0m\n\u001b[1;32m      3\u001b[0m \u001b[0mscores_rf\u001b[0m\u001b[0;34m.\u001b[0m\u001b[0mmean\u001b[0m\u001b[0;34m(\u001b[0m\u001b[0;34m)\u001b[0m\u001b[0;34m\u001b[0m\u001b[0m\n",
      "\u001b[0;31mNameError\u001b[0m: name 'RandomForestClassifier' is not defined"
     ]
    }
   ],
   "source": [
    "rf = RandomForestClassifier(random_state=1, n_estimators=100, min_samples_leaf=4,min_samples_split=5)\n",
    "scores_rf= cross_validation.cross_val_score(rf, data[predictors], data['Survived'])\n",
    "scores_rf.mean()"
   ]
  },
  {
   "cell_type": "markdown",
   "metadata": {},
   "source": [
    "Ensembling could give better results, choose diverse models with reasonable amount of same accuracies"
   ]
  },
  {
   "cell_type": "code",
   "execution_count": 36,
   "metadata": {
    "collapsed": false
   },
   "outputs": [],
   "source": [
    "predictors1 = [\"Pclass\", \"Sex\", \"Age\",\"Fare\", \"Embarked\", \"FamilySize\", \"Title\", \"FamilyID\"]\n",
    "predictors2 = [\"Pclass\", \"Sex\", \"Age\",\"Fare\", \"Embarked\", \"FamilySize\", \"Title\",\"FamilyID\"]\n",
    "algorithms = [[RandomForestClassifier(n_estimators=100, random_state=1), predictors1],[LogisticRegression(random_state=1), predictors2]]"
   ]
  },
  {
   "cell_type": "code",
   "execution_count": 53,
   "metadata": {
    "collapsed": false,
    "scrolled": true
   },
   "outputs": [
    {
     "name": "stdout",
     "output_type": "stream",
     "text": [
      "<class 'pandas.core.frame.DataFrame'>\n",
      "Int64Index: 891 entries, 0 to 890\n",
      "Data columns (total 8 columns):\n",
      "Pclass        891 non-null int64\n",
      "Sex           891 non-null int64\n",
      "Age           891 non-null float64\n",
      "Fare          891 non-null float64\n",
      "Embarked      891 non-null int64\n",
      "FamilySize    891 non-null int64\n",
      "Title         891 non-null int64\n",
      "FamilyID      891 non-null int64\n",
      "dtypes: float64(2), int64(6)\n",
      "memory usage: 62.6 KB\n"
     ]
    }
   ],
   "source": [
    "data[predictors1].info()"
   ]
  },
  {
   "cell_type": "code",
   "execution_count": 15,
   "metadata": {
    "collapsed": false
   },
   "outputs": [],
   "source": [
    "data['Title'] = data.Title.astype(int)"
   ]
  },
  {
   "cell_type": "code",
   "execution_count": 63,
   "metadata": {
    "collapsed": false
   },
   "outputs": [],
   "source": [
    "import xgboost as xgb\n",
    "#gbm = xgb.XGBClassifier(max_depth=3, n_estimators=300, learning_rate=0.05).fit(data[predictors1], data['Survived'])\n",
    "#predictions_xgb = gbm.predict(test_X)\n",
    "kf = KFold(data.shape[0],n_folds=3,random_state=1)\n",
    "predictions=[]\n",
    "for train,test in kf:\n",
    "    temp_predictions=[]\n",
    "    gbm = xgb.XGBClassifier(max_depth=3, n_estimators=300, learning_rate=0.05).fit(data[predictors1].iloc[train,:], data['Survived'].iloc[train])\n",
    "    temp_predictions = gbm.predict(data[predictors1].iloc[test,:].astype(float))\n",
    "    predictions.append(temp_predictions)\n"
   ]
  },
  {
   "cell_type": "code",
   "execution_count": 64,
   "metadata": {
    "collapsed": true
   },
   "outputs": [],
   "source": [
    "predictions = np.concatenate(predictions, axis=0)"
   ]
  },
  {
   "cell_type": "code",
   "execution_count": 65,
   "metadata": {
    "collapsed": false
   },
   "outputs": [
    {
     "data": {
      "text/plain": [
       "0.82940516273849607"
      ]
     },
     "execution_count": 65,
     "metadata": {},
     "output_type": "execute_result"
    }
   ],
   "source": [
    "accuracy_xgb = (data['Survived']==predictions).mean()\n",
    "accuracy_xgb"
   ]
  },
  {
   "cell_type": "code",
   "execution_count": 206,
   "metadata": {
    "collapsed": true
   },
   "outputs": [],
   "source": [
    "kf = KFold(data.shape[0],n_folds=3,random_state=1)\n",
    "predictions=[]\n",
    "for train, test in kf:\n",
    "    train_target = data['Survived'].iloc[train]\n",
    "    two_predictions=[]\n",
    "    for alg in algorithms:\n",
    "        model = alg[0]\n",
    "        predictors = alg[1]\n",
    "        model.fit(data[predictors].iloc[train,:], train_target)\n",
    "        one_predictions=model.predict_proba(data[predictors].iloc[test,:].astype(float))[:,1]\n",
    "        two_predictions.append(one_predictions)\n",
    "    two_predictions = (two_predictions[0] + two_predictions[1])/2\n",
    "    two_predictions[two_predictions<=0.5]=0\n",
    "    two_predictions[two_predictions>0.5] = 1\n",
    "    predictions.append(two_predictions)\n",
    "\n",
    "predictions = np.concatenate(predictions, axis=0)"
   ]
  },
  {
   "cell_type": "code",
   "execution_count": 207,
   "metadata": {
    "collapsed": false
   },
   "outputs": [
    {
     "data": {
      "text/plain": [
       "0.82603815937149272"
      ]
     },
     "execution_count": 207,
     "metadata": {},
     "output_type": "execute_result"
    }
   ],
   "source": [
    "accuracy = (data['Survived']==predictions).mean()\n",
    "accuracy"
   ]
  },
  {
   "cell_type": "markdown",
   "metadata": {},
   "source": [
    "Match the chnages on Test set"
   ]
  },
  {
   "cell_type": "code",
   "execution_count": 215,
   "metadata": {
    "collapsed": true
   },
   "outputs": [],
   "source": [
    "titanic = pd.read_csv('/Users/Sri/Desktop/Kaggle/Titanic/test.csv', index_col=None)"
   ]
  },
  {
   "cell_type": "code",
   "execution_count": 216,
   "metadata": {
    "collapsed": false
   },
   "outputs": [],
   "source": [
    "# replace missing values and convert categorical text to numerical\n",
    "titanic['Fare'] = titanic['Fare'].fillna(titanic['Fare'].median())\n",
    "titanic['Age'] = titanic['Age'].fillna(titanic['Age'].median())\n",
    "titanic.loc[titanic['Sex']=='male', 'Sex'] = 0\n",
    "titanic.loc[titanic['Sex']=='female', 'Sex'] = 1\n",
    "# convert embarked column, first replace missing values\n",
    "titanic['Embarked'] = titanic['Embarked'].fillna('S')\n",
    "titanic.loc[titanic['Embarked']=='S','Embarked']=0\n",
    "titanic.loc[titanic['Embarked']=='C','Embarked']=1\n",
    "titanic.loc[titanic['Embarked']=='Q','Embarked']=2"
   ]
  },
  {
   "cell_type": "code",
   "execution_count": 217,
   "metadata": {
    "collapsed": false
   },
   "outputs": [],
   "source": [
    "titles = titanic['Name'].apply(get_title)\n",
    "title_mappings = {\"Mr\": 1, \"Miss\": 2, \"Mrs\": 3, \"Master\": 4, \"Dr\": 5, \"Rev\": 6, \"Major\": 7, \"Col\": 7, \"Mlle\": 8, \"Mme\": 8, \"Don\": 9, \"Lady\": 10, \"Countess\": 10, \"Jonkheer\": 10, \"Sir\": 9, \"Capt\": 7, \"Ms\": 2, \"Dona\": 10}\n",
    "for k,v in title_mappings.items():\n",
    "    titles[titles == k] = v\n",
    "titanic[\"Title\"] = titles\n",
    "\n",
    "titanic[\"FamilySize\"] = titanic[\"SibSp\"] + titanic[\"Parch\"]\n",
    "\n",
    "family_ids = titanic.apply(get_family_id, axis=1)\n",
    "family_ids[titanic[\"FamilySize\"] < 3] = -1\n",
    "titanic[\"FamilyID\"] = family_ids\n",
    "titanic[\"NameLength\"] = titanic[\"Name\"].apply(lambda x: len(x))\n"
   ]
  },
  {
   "cell_type": "code",
   "execution_count": 237,
   "metadata": {
    "collapsed": true
   },
   "outputs": [],
   "source": [
    "predictors1 = [\"Pclass\", \"Sex\", \"Age\",\"Fare\", \"Embarked\", \"FamilySize\", \"Title\", \"FamilyID\"]\n",
    "predictors2 = [\"Pclass\", \"Sex\", \"Age\",\"Fare\", \"Embarked\", \"FamilySize\", \"Title\"]\n",
    "algorithms = [[GradientBoostingClassifier(n_estimators=25, random_state=1, max_depth=3), predictors1],[LogisticRegression(random_state=1), predictors2]]"
   ]
  },
  {
   "cell_type": "code",
   "execution_count": 238,
   "metadata": {
    "collapsed": false
   },
   "outputs": [],
   "source": [
    "predictions_final=[]\n",
    "for alg, predictors in algorithms:\n",
    "    alg.fit(data[predictors], data['Survived'])\n",
    "    predictions = alg.predict_proba(titanic[predictors].astype(float))[:,1]\n",
    "    predictions_final.append(predictions)\n",
    "\n",
    "predictions = (predictions_final[0] * 3 + predictions_final[1]) / 4\n",
    "predictions[predictions<=0.5]=0\n",
    "predictions[predictions>0.5] = 1"
   ]
  },
  {
   "cell_type": "code",
   "execution_count": 239,
   "metadata": {
    "collapsed": false
   },
   "outputs": [],
   "source": [
    "predictions = predictions.astype(int)"
   ]
  },
  {
   "cell_type": "code",
   "execution_count": 224,
   "metadata": {
    "collapsed": true
   },
   "outputs": [],
   "source": [
    "p = pd.read_csv('/Users/Sri/Downloads/gendermodel.csv',index_col=None)"
   ]
  },
  {
   "cell_type": "code",
   "execution_count": 240,
   "metadata": {
    "collapsed": false
   },
   "outputs": [],
   "source": [
    "submission = pd.DataFrame({'PassengerId':titanic['PassengerId'],'Survived':predictions})"
   ]
  },
  {
   "cell_type": "code",
   "execution_count": 241,
   "metadata": {
    "collapsed": false
   },
   "outputs": [],
   "source": [
    "submission.to_csv('/Users/Sri/Desktop/Kaggle/Titanic/titanic.csv', index=False)"
   ]
  },
  {
   "cell_type": "markdown",
   "metadata": {},
   "source": [
    "NEW Approach"
   ]
  },
  {
   "cell_type": "code",
   "execution_count": 242,
   "metadata": {
    "collapsed": true
   },
   "outputs": [],
   "source": [
    "import numpy as np\n",
    "import pandas as pd\n",
    "from pandas import  DataFrame\n",
    "from patsy import dmatrices\n",
    "import string\n",
    "from operator import itemgetter\n",
    "#json library for settings file\n",
    "import json\n",
    "# import the machine learning library that holds the randomforest\n",
    "from sklearn.ensemble import RandomForestClassifier\n",
    "from sklearn.cross_validation import cross_val_score\n",
    "from sklearn.pipeline import Pipeline\n",
    "from sklearn.grid_search import GridSearchCV\n",
    "from sklearn.cross_validation import train_test_split,StratifiedShuffleSplit,StratifiedKFold\n",
    "from sklearn import preprocessing\n",
    "from sklearn.metrics import classification_report\n",
    "#joblib library for serialization\n",
    "from sklearn.externals import joblib"
   ]
  },
  {
   "cell_type": "code",
   "execution_count": 243,
   "metadata": {
    "collapsed": true
   },
   "outputs": [],
   "source": [
    "l = pd.read_csv('/Users/Sri/Desktop/Kaggle/Titanic/titanic.csv', index_col=None)"
   ]
  },
  {
   "cell_type": "markdown",
   "metadata": {
    "collapsed": false
   },
   "source": [
    "l[l.Survived!=l.NEW]"
   ]
  },
  {
   "cell_type": "markdown",
   "metadata": {
    "collapsed": true
   },
   "source": [
    "Graphically study the Data"
   ]
  },
  {
   "cell_type": "code",
   "execution_count": 246,
   "metadata": {
    "collapsed": true
   },
   "outputs": [],
   "source": [
    "t = pd.read_csv('/Users/Sri/Desktop/Kaggle/Titanic/train.csv', index_col=None)"
   ]
  },
  {
   "cell_type": "code",
   "execution_count": 248,
   "metadata": {
    "collapsed": false
   },
   "outputs": [
    {
     "data": {
      "text/html": [
       "<div>\n",
       "<table border=\"1\" class=\"dataframe\">\n",
       "  <thead>\n",
       "    <tr style=\"text-align: right;\">\n",
       "      <th></th>\n",
       "      <th>PassengerId</th>\n",
       "      <th>Survived</th>\n",
       "      <th>Pclass</th>\n",
       "      <th>Age</th>\n",
       "      <th>SibSp</th>\n",
       "      <th>Parch</th>\n",
       "      <th>Fare</th>\n",
       "    </tr>\n",
       "  </thead>\n",
       "  <tbody>\n",
       "    <tr>\n",
       "      <th>count</th>\n",
       "      <td>891.000000</td>\n",
       "      <td>891.000000</td>\n",
       "      <td>891.000000</td>\n",
       "      <td>714.000000</td>\n",
       "      <td>891.000000</td>\n",
       "      <td>891.000000</td>\n",
       "      <td>891.000000</td>\n",
       "    </tr>\n",
       "    <tr>\n",
       "      <th>mean</th>\n",
       "      <td>446.000000</td>\n",
       "      <td>0.383838</td>\n",
       "      <td>2.308642</td>\n",
       "      <td>29.699118</td>\n",
       "      <td>0.523008</td>\n",
       "      <td>0.381594</td>\n",
       "      <td>32.204208</td>\n",
       "    </tr>\n",
       "    <tr>\n",
       "      <th>std</th>\n",
       "      <td>257.353842</td>\n",
       "      <td>0.486592</td>\n",
       "      <td>0.836071</td>\n",
       "      <td>14.526497</td>\n",
       "      <td>1.102743</td>\n",
       "      <td>0.806057</td>\n",
       "      <td>49.693429</td>\n",
       "    </tr>\n",
       "    <tr>\n",
       "      <th>min</th>\n",
       "      <td>1.000000</td>\n",
       "      <td>0.000000</td>\n",
       "      <td>1.000000</td>\n",
       "      <td>0.420000</td>\n",
       "      <td>0.000000</td>\n",
       "      <td>0.000000</td>\n",
       "      <td>0.000000</td>\n",
       "    </tr>\n",
       "    <tr>\n",
       "      <th>25%</th>\n",
       "      <td>223.500000</td>\n",
       "      <td>0.000000</td>\n",
       "      <td>2.000000</td>\n",
       "      <td>20.125000</td>\n",
       "      <td>0.000000</td>\n",
       "      <td>0.000000</td>\n",
       "      <td>7.910400</td>\n",
       "    </tr>\n",
       "    <tr>\n",
       "      <th>50%</th>\n",
       "      <td>446.000000</td>\n",
       "      <td>0.000000</td>\n",
       "      <td>3.000000</td>\n",
       "      <td>28.000000</td>\n",
       "      <td>0.000000</td>\n",
       "      <td>0.000000</td>\n",
       "      <td>14.454200</td>\n",
       "    </tr>\n",
       "    <tr>\n",
       "      <th>75%</th>\n",
       "      <td>668.500000</td>\n",
       "      <td>1.000000</td>\n",
       "      <td>3.000000</td>\n",
       "      <td>38.000000</td>\n",
       "      <td>1.000000</td>\n",
       "      <td>0.000000</td>\n",
       "      <td>31.000000</td>\n",
       "    </tr>\n",
       "    <tr>\n",
       "      <th>max</th>\n",
       "      <td>891.000000</td>\n",
       "      <td>1.000000</td>\n",
       "      <td>3.000000</td>\n",
       "      <td>80.000000</td>\n",
       "      <td>8.000000</td>\n",
       "      <td>6.000000</td>\n",
       "      <td>512.329200</td>\n",
       "    </tr>\n",
       "  </tbody>\n",
       "</table>\n",
       "</div>"
      ],
      "text/plain": [
       "       PassengerId    Survived      Pclass         Age       SibSp  \\\n",
       "count   891.000000  891.000000  891.000000  714.000000  891.000000   \n",
       "mean    446.000000    0.383838    2.308642   29.699118    0.523008   \n",
       "std     257.353842    0.486592    0.836071   14.526497    1.102743   \n",
       "min       1.000000    0.000000    1.000000    0.420000    0.000000   \n",
       "25%     223.500000    0.000000    2.000000   20.125000    0.000000   \n",
       "50%     446.000000    0.000000    3.000000   28.000000    0.000000   \n",
       "75%     668.500000    1.000000    3.000000   38.000000    1.000000   \n",
       "max     891.000000    1.000000    3.000000   80.000000    8.000000   \n",
       "\n",
       "            Parch        Fare  \n",
       "count  891.000000  891.000000  \n",
       "mean     0.381594   32.204208  \n",
       "std      0.806057   49.693429  \n",
       "min      0.000000    0.000000  \n",
       "25%      0.000000    7.910400  \n",
       "50%      0.000000   14.454200  \n",
       "75%      0.000000   31.000000  \n",
       "max      6.000000  512.329200  "
      ]
     },
     "execution_count": 248,
     "metadata": {},
     "output_type": "execute_result"
    }
   ],
   "source": [
    "t.describe()"
   ]
  },
  {
   "cell_type": "code",
   "execution_count": 319,
   "metadata": {
    "collapsed": false
   },
   "outputs": [
    {
     "data": {
      "image/png": "[encoded data removed]",
      "text/plain": [
       "<matplotlib.figure.Figure at 0x10f5c40b8>"
      ]
     },
     "metadata": {},
     "output_type": "display_data"
    }
   ],
   "source": [
    "fig= plt.figure(figsize=(20,6), dpi=1600)\n",
    "ax1 = fig.add_subplot(3,2,1)\n",
    "female = t.Survived[t['Sex']=='female'] [t['Age'].isnull()].value_counts()\n",
    "female.plot(kind='bar',label='female, age missing', color='red', alpha=0.8)\n",
    "ax1.set_xlim(-1, len(female))\n",
    "plt.legend(loc='best')\n",
    "\n",
    "ax2 = fig.add_subplot(322)\n",
    "male = t.Survived[t['Sex']=='male'][t['Age'].isnull()].value_counts()\n",
    "male.plot(kind='bar', label='male, age missing', color='green', alpha=0.8)\n",
    "ax2.set_xlim(-1, len(male))\n",
    "plt.legend(loc='best')\n",
    "\n",
    "ax3 = fig.add_subplot(3,2,3)\n",
    "t.Age[t.Survived==1][t.Sex=='female'].dropna().hist(bins=16,range=(0,80),alpha=0.5)\n",
    "ax3.set_title('survived female age distribution')\n",
    "\n",
    "ax4 = fig.add_subplot(324)\n",
    "t.Age[t.Survived==1][t.Sex=='male'].dropna().hist(bins=16,range=(0,80),alpha=0.5)\n",
    "ax4.set_title('survived male age distribution')\n",
    "fig.subplots_adjust(bottom=-0.5, top=1) # for adjusting title positions\n",
    "\n",
    "ax5 = fig.add_subplot(325)\n",
    "t.Age[t.Survived==0][t.Sex=='female'].dropna().hist(bins=16,range=(0,80),alpha=0.5)\n",
    "ax5.set_title('died female age distribution')\n",
    "\n",
    "ax6 = fig.add_subplot(326)\n",
    "t.Age[t.Survived==0][t.Sex=='male'].dropna().hist(bins=16,range=(0,80),alpha=0.5)\n",
    "ax6.set_title('died male age distribution')\n",
    "\n",
    "plt.show()"
   ]
  },
  {
   "cell_type": "code",
   "execution_count": 327,
   "metadata": {
    "collapsed": false
   },
   "outputs": [
    {
     "data": {
      "text/plain": [
       "<matplotlib.legend.Legend at 0x111e071d0>"
      ]
     },
     "execution_count": 327,
     "metadata": {},
     "output_type": "execute_result"
    },
    {
     "data": {
      "image/png": "[encoded data removed]",
      "text/plain": [
       "<matplotlib.figure.Figure at 0x111592518>"
      ]
     },
     "metadata": {},
     "output_type": "display_data"
    }
   ],
   "source": [
    "fig = plt.figure(figsize=(18,12), dpi= 1600)\n",
    "ax3= fig.add_subplot(341)\n",
    "female_highclass = t.Survived[t.Sex=='female'][t.Pclass!=3].value_counts()\n",
    "female_highclass.plot(kind='bar', label='female high class',color='pink', alpha=0.8)\n",
    "ax3.set_xlim(-1, len(female_highclass))\n",
    "plt.legend(loc='best')\n",
    "\n",
    "ax4= fig.add_subplot(342)\n",
    "female_lowclass = t.Survived[t.Sex=='female'][t.Pclass==3].value_counts()\n",
    "female_lowclass.plot(kind='bar', label='female low class',color='pink', alpha=0.8)\n",
    "ax4.set_xlim(-1, len(female_lowclass))\n",
    "plt.legend(loc='best')\n",
    "\n",
    "ax5= fig.add_subplot(343)\n",
    "male_highclass = t.Survived[t.Sex=='male'][t.Pclass!=3].value_counts()\n",
    "male_highclass.plot(kind='bar', label='male high class',color='lightblue', alpha=0.8)\n",
    "ax5.set_xlim(-1, len(male_highclass))\n",
    "plt.legend(loc='best')\n",
    "\n",
    "ax6= fig.add_subplot(344)\n",
    "male_lowclass = t.Survived[t.Sex=='male'][t.Pclass==3].value_counts()\n",
    "male_lowclass.plot(kind='bar', label='male low class',color='lightblue', alpha=0.8)\n",
    "ax6.set_xlim(-1, len(male_lowclass))\n",
    "plt.legend(loc='best')\n",
    "\n",
    "ax7 = fig.add_subplot(345)\n",
    "female_aged = t.Survived[t.Sex=='female'][t.Age>=60].value_counts()\n",
    "female_aged.plot(kind='bar', label='female, aged', color='pink', alpha=0.8)\n",
    "ax7.set_xlim(-1, len(female_aged))\n",
    "plt.legend(loc='best')\n",
    "\n",
    "ax8 = fig.add_subplot(346)\n",
    "female_middleaged = t.Survived[t.Sex=='female'][t.Age>10][t.Age<=30].value_counts()\n",
    "female_middleaged.plot(kind='bar', label='female, middleaged', color='pink', alpha=0.8)\n",
    "ax8.set_xlim(-1, len(female_middleaged))\n",
    "plt.legend(loc='best')\n",
    "\n",
    "ax9 = fig.add_subplot(347)\n",
    "female_middleaged2 = t.Survived[t.Sex=='female'][t.Age>30][t.Age<60].value_counts()\n",
    "female_middleaged2.plot(kind='bar', label='female, middleaged2', color='pink', alpha=0.8)\n",
    "ax9.set_xlim(-1, len(female_middleaged2))\n",
    "plt.legend(loc='best')\n",
    "\n",
    "ax10 = fig.add_subplot(348)\n",
    "female_child = t.Survived[t.Sex=='female'][t.Age<=10].value_counts()\n",
    "female_child.plot(kind='bar', label='female, children', color='pink', alpha=0.8)\n",
    "ax10.set_xlim(-1, len(female_child))\n",
    "plt.legend(loc='best')\n",
    "\n",
    "#male\n",
    "\n",
    "ax11 = fig.add_subplot(349)\n",
    "male_aged = t.Survived[t.Sex=='male'][t.Age>=60].value_counts()\n",
    "male_aged.plot(kind='bar', label='male, aged', color='blue', alpha=0.8)\n",
    "ax11.set_xlim(-1, len(male_aged))\n",
    "plt.legend(loc='best')\n",
    "\n",
    "ax12 = fig.add_subplot(3,4,10)\n",
    "male_middleaged = t.Survived[t.Sex=='male'][t.Age>10][t.Age<=30].value_counts()\n",
    "male_middleaged.plot(kind='bar', label='male, middleaged', color='blue', alpha=0.8)\n",
    "ax12.set_xlim(-1, len(male_middleaged))\n",
    "plt.legend(loc='best')\n",
    "\n",
    "ax13 = fig.add_subplot(3,4,11)\n",
    "male_middleaged2 = t.Survived[t.Sex=='male'][t.Age>30][t.Age<60].value_counts()\n",
    "male_middleaged2.plot(kind='bar', label='male, middleaged2', color='blue', alpha=0.8)\n",
    "ax13.set_xlim(-1, len(male_middleaged2))\n",
    "plt.legend(loc='best')\n",
    "\n",
    "ax14 = fig.add_subplot(3,4,12)\n",
    "male_child = t.Survived[t.Sex=='male'][t.Age<=10].value_counts()\n",
    "male_child.plot(kind='bar', label='male, children', color='blue', alpha=0.8)\n",
    "ax14.set_xlim(-1, len(male_child))\n",
    "plt.legend(loc='best')"
   ]
  },
  {
   "cell_type": "code",
   "execution_count": 328,
   "metadata": {
    "collapsed": false
   },
   "outputs": [
    {
     "data": {
      "text/plain": [
       "<matplotlib.legend.Legend at 0x11257bb70>"
      ]
     },
     "execution_count": 328,
     "metadata": {},
     "output_type": "execute_result"
    },
    {
     "data": {
      "image/png": "[encoded data removed]",
      "text/plain": [
       "<matplotlib.figure.Figure at 0x10eedaba8>"
      ]
     },
     "metadata": {},
     "output_type": "display_data"
    }
   ],
   "source": [
    "fig = plt.figure(figsize=(20,6), dpi = 1600)\n",
    "ax1 = fig.add_subplot(121)\n",
    "lowclass = t.Survived[t.Pclass!=3].value_counts()\n",
    "lowclass.plot(kind='bar', label='LowClass', color='red')\n",
    "ax1.set_xlim(-1,2)\n",
    "plt.legend(loc='best')\n",
    "\n",
    "ax2 = fig.add_subplot(122)\n",
    "highclass = t.Survived[t.Pclass==3].value_counts()\n",
    "highclass.plot(kind='bar', label='HighClass', color='green')\n",
    "ax2.set_xlim(-1,2)\n",
    "plt.legend(loc='best')\n"
   ]
  },
  {
   "cell_type": "code",
   "execution_count": 329,
   "metadata": {
    "collapsed": false,
    "scrolled": true
   },
   "outputs": [
    {
     "data": {
      "text/plain": [
       "<matplotlib.legend.Legend at 0x1129d60b8>"
      ]
     },
     "execution_count": 329,
     "metadata": {},
     "output_type": "execute_result"
    },
    {
     "data": {
      "image/png": "[encoded data removed]",
      "text/plain": [
       "<matplotlib.figure.Figure at 0x10f8f69b0>"
      ]
     },
     "metadata": {},
     "output_type": "display_data"
    }
   ],
   "source": [
    "fig = plt.figure(figsize=(20,6), dpi = 1600)\n",
    "ax1 = fig.add_subplot(121)\n",
    "lowfare = t.Survived[t.Fare<=300].value_counts()\n",
    "lowfare.plot(kind='bar', label='lowfare', color='red')\n",
    "ax1.set_xlim(-1,2)\n",
    "plt.legend(loc='best')\n",
    "\n",
    "\n",
    "ax2 = fig.add_subplot(122)\n",
    "highfare = t.Survived[t.Fare>300].value_counts()\n",
    "highfare.plot(kind='bar', label='highfare', color='green')\n",
    "ax2.set_xlim(-1,2)\n",
    "plt.legend(loc='best')\n"
   ]
  },
  {
   "cell_type": "code",
   "execution_count": 344,
   "metadata": {
    "collapsed": false
   },
   "outputs": [
    {
     "name": "stdout",
     "output_type": "stream",
     "text": [
      "Male: 1 122\n",
      "FeMale:1 94\n",
      "Male: 2 108\n",
      "FeMale:2 76\n",
      "Male: 3 347\n",
      "FeMale:3 144\n"
     ]
    }
   ],
   "source": [
    "for i in range(1,4):\n",
    "    print('Male: {0} {1}'.format(i,len(t[(t.Sex=='male') & (t.Pclass==i)])))\n",
    "    print('FeMale:{0} {1}'.format(i, len(t[(t.Sex=='female') & (t.Pclass==i)])))"
   ]
  },
  {
   "cell_type": "code",
   "execution_count": 332,
   "metadata": {
    "collapsed": false
   },
   "outputs": [
    {
     "data": {
      "text/plain": [
       "122"
      ]
     },
     "execution_count": 332,
     "metadata": {},
     "output_type": "execute_result"
    }
   ],
   "source": [
    "len(t[(t.Sex=='male') & (t.Pclass==1)])"
   ]
  },
  {
   "cell_type": "code",
   "execution_count": 67,
   "metadata": {
    "collapsed": true
   },
   "outputs": [],
   "source": [
    "from sklearn.cross_validation import StratifiedKFold"
   ]
  },
  {
   "cell_type": "code",
   "execution_count": 68,
   "metadata": {
    "collapsed": true
   },
   "outputs": [],
   "source": [
    "kf = StratifiedKFold(data['Survived'], n_folds=3, random_state=1)"
   ]
  },
  {
   "cell_type": "code",
   "execution_count": 82,
   "metadata": {
    "collapsed": false
   },
   "outputs": [
    {
     "name": "stdout",
     "output_type": "stream",
     "text": [
      "114\n",
      "183\n",
      "114\n",
      "183\n",
      "114\n",
      "183\n"
     ]
    }
   ],
   "source": [
    "for i, j in kf:\n",
    "    print((data['Survived'].iloc[j]==1).sum())\n",
    "    print((data['Survived'].iloc[j]==0).sum())"
   ]
  },
  {
   "cell_type": "code",
   "execution_count": 16,
   "metadata": {
    "collapsed": false
   },
   "outputs": [
    {
     "data": {
      "text/html": [
       "<div>\n",
       "<table border=\"1\" class=\"dataframe\">\n",
       "  <thead>\n",
       "    <tr style=\"text-align: right;\">\n",
       "      <th></th>\n",
       "      <th>PassengerId</th>\n",
       "      <th>Survived</th>\n",
       "      <th>Pclass</th>\n",
       "      <th>Name</th>\n",
       "      <th>Sex</th>\n",
       "      <th>Age</th>\n",
       "      <th>SibSp</th>\n",
       "      <th>Parch</th>\n",
       "      <th>Ticket</th>\n",
       "      <th>Fare</th>\n",
       "      <th>Cabin</th>\n",
       "      <th>Embarked</th>\n",
       "      <th>FamilySize</th>\n",
       "      <th>NameLength</th>\n",
       "      <th>Title</th>\n",
       "      <th>FamilyID</th>\n",
       "    </tr>\n",
       "  </thead>\n",
       "  <tbody>\n",
       "    <tr>\n",
       "      <th>0</th>\n",
       "      <td>1</td>\n",
       "      <td>0</td>\n",
       "      <td>3</td>\n",
       "      <td>Braund, Mr. Owen Harris</td>\n",
       "      <td>0</td>\n",
       "      <td>22</td>\n",
       "      <td>1</td>\n",
       "      <td>0</td>\n",
       "      <td>A/5 21171</td>\n",
       "      <td>7.2500</td>\n",
       "      <td>NaN</td>\n",
       "      <td>0</td>\n",
       "      <td>1</td>\n",
       "      <td>23</td>\n",
       "      <td>1</td>\n",
       "      <td>-1</td>\n",
       "    </tr>\n",
       "    <tr>\n",
       "      <th>1</th>\n",
       "      <td>2</td>\n",
       "      <td>1</td>\n",
       "      <td>1</td>\n",
       "      <td>Cumings, Mrs. John Bradley (Florence Briggs Th...</td>\n",
       "      <td>1</td>\n",
       "      <td>38</td>\n",
       "      <td>1</td>\n",
       "      <td>0</td>\n",
       "      <td>PC 17599</td>\n",
       "      <td>71.2833</td>\n",
       "      <td>C85</td>\n",
       "      <td>1</td>\n",
       "      <td>1</td>\n",
       "      <td>51</td>\n",
       "      <td>3</td>\n",
       "      <td>-1</td>\n",
       "    </tr>\n",
       "    <tr>\n",
       "      <th>2</th>\n",
       "      <td>3</td>\n",
       "      <td>1</td>\n",
       "      <td>3</td>\n",
       "      <td>Heikkinen, Miss. Laina</td>\n",
       "      <td>1</td>\n",
       "      <td>26</td>\n",
       "      <td>0</td>\n",
       "      <td>0</td>\n",
       "      <td>STON/O2. 3101282</td>\n",
       "      <td>7.9250</td>\n",
       "      <td>NaN</td>\n",
       "      <td>0</td>\n",
       "      <td>0</td>\n",
       "      <td>22</td>\n",
       "      <td>2</td>\n",
       "      <td>-1</td>\n",
       "    </tr>\n",
       "    <tr>\n",
       "      <th>3</th>\n",
       "      <td>4</td>\n",
       "      <td>1</td>\n",
       "      <td>1</td>\n",
       "      <td>Futrelle, Mrs. Jacques Heath (Lily May Peel)</td>\n",
       "      <td>1</td>\n",
       "      <td>35</td>\n",
       "      <td>1</td>\n",
       "      <td>0</td>\n",
       "      <td>113803</td>\n",
       "      <td>53.1000</td>\n",
       "      <td>C123</td>\n",
       "      <td>0</td>\n",
       "      <td>1</td>\n",
       "      <td>44</td>\n",
       "      <td>3</td>\n",
       "      <td>-1</td>\n",
       "    </tr>\n",
       "    <tr>\n",
       "      <th>4</th>\n",
       "      <td>5</td>\n",
       "      <td>0</td>\n",
       "      <td>3</td>\n",
       "      <td>Allen, Mr. William Henry</td>\n",
       "      <td>0</td>\n",
       "      <td>35</td>\n",
       "      <td>0</td>\n",
       "      <td>0</td>\n",
       "      <td>373450</td>\n",
       "      <td>8.0500</td>\n",
       "      <td>NaN</td>\n",
       "      <td>0</td>\n",
       "      <td>0</td>\n",
       "      <td>24</td>\n",
       "      <td>1</td>\n",
       "      <td>-1</td>\n",
       "    </tr>\n",
       "  </tbody>\n",
       "</table>\n",
       "</div>"
      ],
      "text/plain": [
       "   PassengerId  Survived  Pclass  \\\n",
       "0            1         0       3   \n",
       "1            2         1       1   \n",
       "2            3         1       3   \n",
       "3            4         1       1   \n",
       "4            5         0       3   \n",
       "\n",
       "                                                Name Sex  Age  SibSp  Parch  \\\n",
       "0                            Braund, Mr. Owen Harris   0   22      1      0   \n",
       "1  Cumings, Mrs. John Bradley (Florence Briggs Th...   1   38      1      0   \n",
       "2                             Heikkinen, Miss. Laina   1   26      0      0   \n",
       "3       Futrelle, Mrs. Jacques Heath (Lily May Peel)   1   35      1      0   \n",
       "4                           Allen, Mr. William Henry   0   35      0      0   \n",
       "\n",
       "             Ticket     Fare Cabin Embarked  FamilySize  NameLength  Title  \\\n",
       "0         A/5 21171   7.2500   NaN        0           1          23      1   \n",
       "1          PC 17599  71.2833   C85        1           1          51      3   \n",
       "2  STON/O2. 3101282   7.9250   NaN        0           0          22      2   \n",
       "3            113803  53.1000  C123        0           1          44      3   \n",
       "4            373450   8.0500   NaN        0           0          24      1   \n",
       "\n",
       "   FamilyID  \n",
       "0        -1  \n",
       "1        -1  \n",
       "2        -1  \n",
       "3        -1  \n",
       "4        -1  "
      ]
     },
     "execution_count": 16,
     "metadata": {},
     "output_type": "execute_result"
    }
   ],
   "source": [
    "data.head()"
   ]
  },
  {
   "cell_type": "code",
   "execution_count": 2,
   "metadata": {
    "collapsed": true
   },
   "outputs": [],
   "source": [
    "r1 = pd.read_csv('/Users/Sri/Downloads/rfv3cn3 (1).csv', index_col=None)"
   ]
  },
  {
   "cell_type": "code",
   "execution_count": 5,
   "metadata": {
    "collapsed": false
   },
   "outputs": [
    {
     "data": {
      "text/html": [
       "<div>\n",
       "<table border=\"1\" class=\"dataframe\">\n",
       "  <thead>\n",
       "    <tr style=\"text-align: right;\">\n",
       "      <th></th>\n",
       "      <th>Id</th>\n",
       "      <th>Expected</th>\n",
       "    </tr>\n",
       "  </thead>\n",
       "  <tbody>\n",
       "    <tr>\n",
       "      <th>0</th>\n",
       "      <td>1</td>\n",
       "      <td>0.508</td>\n",
       "    </tr>\n",
       "    <tr>\n",
       "      <th>1</th>\n",
       "      <td>2</td>\n",
       "      <td>1.016</td>\n",
       "    </tr>\n",
       "    <tr>\n",
       "      <th>2</th>\n",
       "      <td>3</td>\n",
       "      <td>2.540</td>\n",
       "    </tr>\n",
       "    <tr>\n",
       "      <th>3</th>\n",
       "      <td>4</td>\n",
       "      <td>4.826</td>\n",
       "    </tr>\n",
       "    <tr>\n",
       "      <th>4</th>\n",
       "      <td>5</td>\n",
       "      <td>1.524</td>\n",
       "    </tr>\n",
       "  </tbody>\n",
       "</table>\n",
       "</div>"
      ],
      "text/plain": [
       "   Id  Expected\n",
       "0   1     0.508\n",
       "1   2     1.016\n",
       "2   3     2.540\n",
       "3   4     4.826\n",
       "4   5     1.524"
      ]
     },
     "execution_count": 5,
     "metadata": {},
     "output_type": "execute_result"
    }
   ],
   "source": [
    "r2.head()"
   ]
  },
  {
   "cell_type": "code",
   "execution_count": 4,
   "metadata": {
    "collapsed": true
   },
   "outputs": [],
   "source": [
    "r2 = pd.read_csv('/Users/Sri/Downloads/dl_mp.csv', index_col=None)"
   ]
  },
  {
   "cell_type": "code",
   "execution_count": 8,
   "metadata": {
    "collapsed": false
   },
   "outputs": [],
   "source": [
    "x = ((r1.Expected * 2) + (r2.Expected * 1) ) / 3"
   ]
  },
  {
   "cell_type": "code",
   "execution_count": 17,
   "metadata": {
    "collapsed": false
   },
   "outputs": [],
   "source": [
    "r1['Expected'] = x"
   ]
  },
  {
   "cell_type": "code",
   "execution_count": 36,
   "metadata": {
    "collapsed": true
   },
   "outputs": [],
   "source": [
    "r1.to_csv('/Users/Sri/Desktop/howmuchrainII.csv', index=False,index_col=None)"
   ]
  },
  {
   "cell_type": "code",
   "execution_count": 37,
   "metadata": {
    "collapsed": true
   },
   "outputs": [],
   "source": [
    "r1 = pd.read_csv('/Users/Sri/Desktop/howmuchrainII.csv', index_col=None)"
   ]
  },
  {
   "cell_type": "code",
   "execution_count": 31,
   "metadata": {
    "collapsed": false
   },
   "outputs": [],
   "source": [
    "r1.drop('Unnamed: 0', inplace=True, axis=1)"
   ]
  },
  {
   "cell_type": "code",
   "execution_count": 38,
   "metadata": {
    "collapsed": false
   },
   "outputs": [
    {
     "data": {
      "text/html": [
       "<div>\n",
       "<table border=\"1\" class=\"dataframe\">\n",
       "  <thead>\n",
       "    <tr style=\"text-align: right;\">\n",
       "      <th></th>\n",
       "      <th>Id</th>\n",
       "      <th>Expected</th>\n",
       "    </tr>\n",
       "  </thead>\n",
       "  <tbody>\n",
       "    <tr>\n",
       "      <th>0</th>\n",
       "      <td>1</td>\n",
       "      <td>0.677333</td>\n",
       "    </tr>\n",
       "    <tr>\n",
       "      <th>1</th>\n",
       "      <td>2</td>\n",
       "      <td>1.016000</td>\n",
       "    </tr>\n",
       "    <tr>\n",
       "      <th>2</th>\n",
       "      <td>3</td>\n",
       "      <td>2.201333</td>\n",
       "    </tr>\n",
       "    <tr>\n",
       "      <th>3</th>\n",
       "      <td>4</td>\n",
       "      <td>4.487333</td>\n",
       "    </tr>\n",
       "    <tr>\n",
       "      <th>4</th>\n",
       "      <td>5</td>\n",
       "      <td>2.540000</td>\n",
       "    </tr>\n",
       "    <tr>\n",
       "      <th>5</th>\n",
       "      <td>6</td>\n",
       "      <td>1.016000</td>\n",
       "    </tr>\n",
       "    <tr>\n",
       "      <th>6</th>\n",
       "      <td>7</td>\n",
       "      <td>2.878667</td>\n",
       "    </tr>\n",
       "    <tr>\n",
       "      <th>7</th>\n",
       "      <td>8</td>\n",
       "      <td>2.032000</td>\n",
       "    </tr>\n",
       "    <tr>\n",
       "      <th>8</th>\n",
       "      <td>9</td>\n",
       "      <td>1.100667</td>\n",
       "    </tr>\n",
       "    <tr>\n",
       "      <th>9</th>\n",
       "      <td>10</td>\n",
       "      <td>5.588000</td>\n",
       "    </tr>\n",
       "    <tr>\n",
       "      <th>10</th>\n",
       "      <td>11</td>\n",
       "      <td>0.931333</td>\n",
       "    </tr>\n",
       "    <tr>\n",
       "      <th>11</th>\n",
       "      <td>12</td>\n",
       "      <td>0.677333</td>\n",
       "    </tr>\n",
       "    <tr>\n",
       "      <th>12</th>\n",
       "      <td>13</td>\n",
       "      <td>2.116667</td>\n",
       "    </tr>\n",
       "    <tr>\n",
       "      <th>13</th>\n",
       "      <td>14</td>\n",
       "      <td>0.762000</td>\n",
       "    </tr>\n",
       "    <tr>\n",
       "      <th>14</th>\n",
       "      <td>15</td>\n",
       "      <td>0.592667</td>\n",
       "    </tr>\n",
       "    <tr>\n",
       "      <th>15</th>\n",
       "      <td>16</td>\n",
       "      <td>2.032000</td>\n",
       "    </tr>\n",
       "    <tr>\n",
       "      <th>16</th>\n",
       "      <td>17</td>\n",
       "      <td>1.947333</td>\n",
       "    </tr>\n",
       "    <tr>\n",
       "      <th>17</th>\n",
       "      <td>18</td>\n",
       "      <td>0.762000</td>\n",
       "    </tr>\n",
       "    <tr>\n",
       "      <th>18</th>\n",
       "      <td>19</td>\n",
       "      <td>1.270000</td>\n",
       "    </tr>\n",
       "    <tr>\n",
       "      <th>19</th>\n",
       "      <td>20</td>\n",
       "      <td>0.508000</td>\n",
       "    </tr>\n",
       "    <tr>\n",
       "      <th>20</th>\n",
       "      <td>21</td>\n",
       "      <td>0.931333</td>\n",
       "    </tr>\n",
       "    <tr>\n",
       "      <th>21</th>\n",
       "      <td>22</td>\n",
       "      <td>1.524000</td>\n",
       "    </tr>\n",
       "    <tr>\n",
       "      <th>22</th>\n",
       "      <td>23</td>\n",
       "      <td>2.370667</td>\n",
       "    </tr>\n",
       "    <tr>\n",
       "      <th>23</th>\n",
       "      <td>24</td>\n",
       "      <td>0.508000</td>\n",
       "    </tr>\n",
       "    <tr>\n",
       "      <th>24</th>\n",
       "      <td>25</td>\n",
       "      <td>1.270000</td>\n",
       "    </tr>\n",
       "    <tr>\n",
       "      <th>25</th>\n",
       "      <td>26</td>\n",
       "      <td>0.762000</td>\n",
       "    </tr>\n",
       "    <tr>\n",
       "      <th>26</th>\n",
       "      <td>27</td>\n",
       "      <td>0.508000</td>\n",
       "    </tr>\n",
       "    <tr>\n",
       "      <th>27</th>\n",
       "      <td>28</td>\n",
       "      <td>0.762000</td>\n",
       "    </tr>\n",
       "    <tr>\n",
       "      <th>28</th>\n",
       "      <td>29</td>\n",
       "      <td>1.100667</td>\n",
       "    </tr>\n",
       "    <tr>\n",
       "      <th>29</th>\n",
       "      <td>30</td>\n",
       "      <td>2.794000</td>\n",
       "    </tr>\n",
       "    <tr>\n",
       "      <th>...</th>\n",
       "      <td>...</td>\n",
       "      <td>...</td>\n",
       "    </tr>\n",
       "    <tr>\n",
       "      <th>717595</th>\n",
       "      <td>717596</td>\n",
       "      <td>1.608667</td>\n",
       "    </tr>\n",
       "    <tr>\n",
       "      <th>717596</th>\n",
       "      <td>717597</td>\n",
       "      <td>0.508000</td>\n",
       "    </tr>\n",
       "    <tr>\n",
       "      <th>717597</th>\n",
       "      <td>717598</td>\n",
       "      <td>5.249333</td>\n",
       "    </tr>\n",
       "    <tr>\n",
       "      <th>717598</th>\n",
       "      <td>717599</td>\n",
       "      <td>1.354667</td>\n",
       "    </tr>\n",
       "    <tr>\n",
       "      <th>717599</th>\n",
       "      <td>717600</td>\n",
       "      <td>1.270000</td>\n",
       "    </tr>\n",
       "    <tr>\n",
       "      <th>717600</th>\n",
       "      <td>717601</td>\n",
       "      <td>1.270000</td>\n",
       "    </tr>\n",
       "    <tr>\n",
       "      <th>717601</th>\n",
       "      <td>717602</td>\n",
       "      <td>1.100667</td>\n",
       "    </tr>\n",
       "    <tr>\n",
       "      <th>717602</th>\n",
       "      <td>717603</td>\n",
       "      <td>3.979333</td>\n",
       "    </tr>\n",
       "    <tr>\n",
       "      <th>717603</th>\n",
       "      <td>717604</td>\n",
       "      <td>1.693333</td>\n",
       "    </tr>\n",
       "    <tr>\n",
       "      <th>717604</th>\n",
       "      <td>717605</td>\n",
       "      <td>9.313333</td>\n",
       "    </tr>\n",
       "    <tr>\n",
       "      <th>717605</th>\n",
       "      <td>717606</td>\n",
       "      <td>1.270000</td>\n",
       "    </tr>\n",
       "    <tr>\n",
       "      <th>717606</th>\n",
       "      <td>717607</td>\n",
       "      <td>0.846667</td>\n",
       "    </tr>\n",
       "    <tr>\n",
       "      <th>717607</th>\n",
       "      <td>717608</td>\n",
       "      <td>0.592667</td>\n",
       "    </tr>\n",
       "    <tr>\n",
       "      <th>717608</th>\n",
       "      <td>717609</td>\n",
       "      <td>6.773333</td>\n",
       "    </tr>\n",
       "    <tr>\n",
       "      <th>717609</th>\n",
       "      <td>717610</td>\n",
       "      <td>1.270000</td>\n",
       "    </tr>\n",
       "    <tr>\n",
       "      <th>717610</th>\n",
       "      <td>717611</td>\n",
       "      <td>0.508000</td>\n",
       "    </tr>\n",
       "    <tr>\n",
       "      <th>717611</th>\n",
       "      <td>717612</td>\n",
       "      <td>1.354667</td>\n",
       "    </tr>\n",
       "    <tr>\n",
       "      <th>717612</th>\n",
       "      <td>717613</td>\n",
       "      <td>1.693333</td>\n",
       "    </tr>\n",
       "    <tr>\n",
       "      <th>717613</th>\n",
       "      <td>717614</td>\n",
       "      <td>1.270000</td>\n",
       "    </tr>\n",
       "    <tr>\n",
       "      <th>717614</th>\n",
       "      <td>717615</td>\n",
       "      <td>2.709333</td>\n",
       "    </tr>\n",
       "    <tr>\n",
       "      <th>717615</th>\n",
       "      <td>717616</td>\n",
       "      <td>1.524000</td>\n",
       "    </tr>\n",
       "    <tr>\n",
       "      <th>717616</th>\n",
       "      <td>717617</td>\n",
       "      <td>1.608667</td>\n",
       "    </tr>\n",
       "    <tr>\n",
       "      <th>717617</th>\n",
       "      <td>717618</td>\n",
       "      <td>0.508000</td>\n",
       "    </tr>\n",
       "    <tr>\n",
       "      <th>717618</th>\n",
       "      <td>717619</td>\n",
       "      <td>1.693333</td>\n",
       "    </tr>\n",
       "    <tr>\n",
       "      <th>717619</th>\n",
       "      <td>717620</td>\n",
       "      <td>1.100667</td>\n",
       "    </tr>\n",
       "    <tr>\n",
       "      <th>717620</th>\n",
       "      <td>717621</td>\n",
       "      <td>0.508000</td>\n",
       "    </tr>\n",
       "    <tr>\n",
       "      <th>717621</th>\n",
       "      <td>717622</td>\n",
       "      <td>1.100667</td>\n",
       "    </tr>\n",
       "    <tr>\n",
       "      <th>717622</th>\n",
       "      <td>717623</td>\n",
       "      <td>1.778000</td>\n",
       "    </tr>\n",
       "    <tr>\n",
       "      <th>717623</th>\n",
       "      <td>717624</td>\n",
       "      <td>2.201333</td>\n",
       "    </tr>\n",
       "    <tr>\n",
       "      <th>717624</th>\n",
       "      <td>717625</td>\n",
       "      <td>1.100667</td>\n",
       "    </tr>\n",
       "  </tbody>\n",
       "</table>\n",
       "<p>717625 rows × 2 columns</p>\n",
       "</div>"
      ],
      "text/plain": [
       "            Id  Expected\n",
       "0            1  0.677333\n",
       "1            2  1.016000\n",
       "2            3  2.201333\n",
       "3            4  4.487333\n",
       "4            5  2.540000\n",
       "5            6  1.016000\n",
       "6            7  2.878667\n",
       "7            8  2.032000\n",
       "8            9  1.100667\n",
       "9           10  5.588000\n",
       "10          11  0.931333\n",
       "11          12  0.677333\n",
       "12          13  2.116667\n",
       "13          14  0.762000\n",
       "14          15  0.592667\n",
       "15          16  2.032000\n",
       "16          17  1.947333\n",
       "17          18  0.762000\n",
       "18          19  1.270000\n",
       "19          20  0.508000\n",
       "20          21  0.931333\n",
       "21          22  1.524000\n",
       "22          23  2.370667\n",
       "23          24  0.508000\n",
       "24          25  1.270000\n",
       "25          26  0.762000\n",
       "26          27  0.508000\n",
       "27          28  0.762000\n",
       "28          29  1.100667\n",
       "29          30  2.794000\n",
       "...        ...       ...\n",
       "717595  717596  1.608667\n",
       "717596  717597  0.508000\n",
       "717597  717598  5.249333\n",
       "717598  717599  1.354667\n",
       "717599  717600  1.270000\n",
       "717600  717601  1.270000\n",
       "717601  717602  1.100667\n",
       "717602  717603  3.979333\n",
       "717603  717604  1.693333\n",
       "717604  717605  9.313333\n",
       "717605  717606  1.270000\n",
       "717606  717607  0.846667\n",
       "717607  717608  0.592667\n",
       "717608  717609  6.773333\n",
       "717609  717610  1.270000\n",
       "717610  717611  0.508000\n",
       "717611  717612  1.354667\n",
       "717612  717613  1.693333\n",
       "717613  717614  1.270000\n",
       "717614  717615  2.709333\n",
       "717615  717616  1.524000\n",
       "717616  717617  1.608667\n",
       "717617  717618  0.508000\n",
       "717618  717619  1.693333\n",
       "717619  717620  1.100667\n",
       "717620  717621  0.508000\n",
       "717621  717622  1.100667\n",
       "717622  717623  1.778000\n",
       "717623  717624  2.201333\n",
       "717624  717625  1.100667\n",
       "\n",
       "[717625 rows x 2 columns]"
      ]
     },
     "execution_count": 38,
     "metadata": {},
     "output_type": "execute_result"
    }
   ],
   "source": [
    "r1"
   ]
  },
  {
   "cell_type": "code",
   "execution_count": null,
   "metadata": {
    "collapsed": true
   },
   "outputs": [],
   "source": []
  }
 ],
 "metadata": {
  "kernelspec": {
   "display_name": "Python 3",
   "language": "python",
   "name": "python3"
  },
  "language_info": {
   "codemirror_mode": {
    "name": "ipython",
    "version": 3
   },
   "file_extension": ".py",
   "mimetype": "text/x-python",
   "name": "python",
   "nbconvert_exporter": "python",
   "pygments_lexer": "ipython3",
   "version": "3.4.3"
  }
 },
 "nbformat": 4,
 "nbformat_minor": 0
}
